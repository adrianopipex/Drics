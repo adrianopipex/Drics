{
 "cells": [
  {
   "cell_type": "code",
   "execution_count": 10,
   "id": "c6cffba9",
   "metadata": {},
   "outputs": [],
   "source": [
    "import json\n",
    "import csv\n",
    "\n",
    "# Carregar o arquivo JSON\n",
    "with open('ecommerce.json') as json_file:\n",
    "    data = json.load(json_file)\n",
    "\n",
    "# Carregar as regras do arquivo txt\n",
    "rules = {}\n",
    "with open('rules.txt') as txt_file:\n",
    "    for line in txt_file:\n",
    "        parts = line.strip().split(',')\n",
    "        rule_id = parts[0]\n",
    "        rule_name = parts[1]\n",
    "        rules[rule_id] = rule_name\n",
    "\n",
    "# Criar uma lista para armazenar as vendas classificadas\n",
    "classified_sales = []\n",
    "\n",
    "# Classificar as vendas de acordo com as regras\n",
    "if isinstance(data, dict):\n",
    "    data = [data]  # Converter para uma lista se for um único objeto JSON\n",
    "\n",
    "for sale in data:\n",
    "    order_date = sale.get('order_date')\n",
    "    order_id = sale.get('order_id')\n",
    "    ds_rule = sale.get('ds_rule')\n",
    "    if order_date is not None and order_id is not None and ds_rule is not None:\n",
    "        for rule_id, rule_name in rules.items():\n",
    "            if rule_id in ds_rule:\n",
    "                classified_sales.append({\n",
    "                    'order_date': order_date,\n",
    "                    'order_id': order_id,\n",
    "                    'id_rule': rule_id,\n",
    "                    'nm_rule': rule_name\n",
    "                })\n",
    "                break\n",
    "\n",
    "# Escrever os resultados em um arquivo CSV\n",
    "with open('gerando_novo.csv', 'w', newline='') as csv_file:\n",
    "    fieldnames = ['order_date', 'order_id', 'id_rule', 'nm_rule']\n",
    "    writer = csv.DictWriter(csv_file, fieldnames=fieldnames)\n",
    "    writer.writeheader()\n",
    "    writer.writerows(classified_sales)\n"
   ]
  }
 ],
 "metadata": {
  "kernelspec": {
   "display_name": "Python 3 (ipykernel)",
   "language": "python",
   "name": "python3"
  },
  "language_info": {
   "codemirror_mode": {
    "name": "ipython",
    "version": 3
   },
   "file_extension": ".py",
   "mimetype": "text/x-python",
   "name": "python",
   "nbconvert_exporter": "python",
   "pygments_lexer": "ipython3",
   "version": "3.10.9"
  }
 },
 "nbformat": 4,
 "nbformat_minor": 5
}
